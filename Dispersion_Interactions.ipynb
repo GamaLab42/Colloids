{
  "nbformat": 4,
  "nbformat_minor": 0,
  "metadata": {
    "colab": {
      "provenance": [],
      "authorship_tag": "ABX9TyNmIju2O5xbxCqaaMOIEi38",
      "include_colab_link": true
    },
    "kernelspec": {
      "name": "python3",
      "display_name": "Python 3"
    },
    "language_info": {
      "name": "python"
    }
  },
  "cells": [
    {
      "cell_type": "markdown",
      "metadata": {
        "id": "view-in-github",
        "colab_type": "text"
      },
      "source": [
        "<a href=\"https://colab.research.google.com/github/GamaLab42/Colloids/blob/main/Dispersion_Interactions.ipynb\" target=\"_parent\"><img src=\"https://colab.research.google.com/assets/colab-badge.svg\" alt=\"Open In Colab\"/></a>"
      ]
    },
    {
      "cell_type": "markdown",
      "source": [
        "Here, we calculate the ion-ion and ion-colloid dispersion interaction following the methodology reported by Tavares and collaborators (2004).\n",
        "\n",
        "\\\n",
        "**Ref:**\n",
        "*F. W. Tavares, D. Bratko, H. W. Blanch, and J. M. Prausnitz\n",
        "The Journal of Physical Chemistry B 2004 108 (26), 9228-9235\n",
        "DOI: 10.1021/jp037809t*"
      ],
      "metadata": {
        "id": "mTalKsCetTNs"
      }
    },
    {
      "cell_type": "markdown",
      "source": [
        "**Ion-Ion Dispersion Interactions**\n",
        "\\\n",
        "\\\n",
        "The dispersion potential $w_{12}^{disp}$ between two small particles 1 and 2 (in this case, ions) in a medium 3 (the solvent) is given by:\n",
        "\\\n",
        "\\\n",
        "$w_{12}^{disp} = \\frac{-B_{12}}{r^6_{12}}$ for $r_{12} \\geq (\\sigma_1 + \\sigma_2)$\n",
        "\n",
        "\\\n",
        "The dispersion parameter $B_{12}$ is calculated using multiple\n",
        "absorption frequencies:\n",
        "\n",
        "\\\n",
        "(**Equation 01**)\n",
        "$\\frac{B_{12}}{k_{B}T} = 3\\frac{\\alpha_{1}(0)\\alpha_{2}(0)}{[\\epsilon_3(0)]^2}$ + $\\frac{3h}{\\pi k_{b}T}\\int^{∞}_{\\nu_{min}}\\frac{\\alpha_{1}(\\nu)\\alpha_{2}(\\nu)}{[\\epsilon_3(\\nu)]^2}d\\nu$"
      ],
      "metadata": {
        "id": "toBVwW9lu2Ku"
      }
    },
    {
      "cell_type": "markdown",
      "source": [
        "**Ion-Colloid Dispersion Interactions**\n",
        "\n",
        "To calculate ion-colloid dispersion interactions, we note that the ion is much\n",
        "smaller than the macroion; therefore, the ion-macroion van der Waals interaction is approximated by the potential between a small spherical particle *i* and a planar macroion *m*:\n",
        "\n",
        "\\\n",
        "\\\n",
        "$w_{12}^{disp} = \\frac{-B_{12}}{r^6_{12}}$ for $r_{12} \\geq (\\sigma_1 + \\sigma_2)$\n",
        "\n",
        "\\\n",
        "where $d_{im}$ is the perpendicular distance from the center of small\n",
        "particle *i* (ion) to the surface of macroion (colloid) *m*. The dispersion interaction parameter, $B_{im}$, is calculated from the Lifshitz theory:\n",
        "\n",
        "\\\n",
        "\n",
        "(**Equation 02**) $\\frac{B_{im}}{k_{B}T} = \\frac{\\alpha_{i}(0)}{4\\epsilon_3(0)} \\left( \\frac{\\epsilon_m(0) - \\epsilon_3(0)}{\\epsilon_m(0) - \\epsilon_3(0)} \\right) + \\frac{h}{4\\pi k_{b}T}\\int^{∞}_{\\nu_{min}}\\frac{\\alpha_{i}(\\nu)}{\\epsilon_3(\\nu)} \\left( \\frac{\\epsilon_m(\\nu) - \\epsilon_3(\\nu)}{\\epsilon_m(\\nu) - \\epsilon_3(\\nu)} \\right)d\\nu$\n",
        "\n",
        "\\\n",
        "where $\\epsilon_m$(0)and $\\epsilon_m$($\\nu$) are the dielectric constants of the macroion at frequencies 0 and $\\nu$, respectively.\n",
        "\\\n",
        "\\\n",
        "To calculate dispersion interaction parameters, $B_{ij}$ and $B_{im}$, we need to know how the effective polarizabilities of ions and the dielectric constants for the macroion and the solvent vary with frequency. For a molecule with one characteristic absorption frequency (the ionization frequency) $\\nu^I$, its polarizability and its dielectric constant at a frequency $\\nu$ are given by the\n",
        "harmonic-oscillator model:\n",
        "\\\n",
        "\\\n",
        "(**Equation 03**) $\\alpha(\\nu) = \\frac{\\alpha(0)}{(1+(\\nu/\\nu^I)^2)}$)\n",
        "\\\n",
        "\\\n",
        "and\n",
        "\\\n",
        "\\\n",
        "(**Equation 04**) $\\epsilon(\\nu) = 1 + \\frac{(n^2 - 1)}{(1+(\\nu/\\nu^I)^2)}$"
      ],
      "metadata": {
        "id": "ZbHbCt3rK3Jx"
      }
    },
    {
      "cell_type": "markdown",
      "source": [
        "**Physical Properties for Water and Colloid or Protein**"
      ],
      "metadata": {
        "id": "30KoskTTzDF_"
      }
    },
    {
      "cell_type": "code",
      "source": [
        "h         = 6.62607015E-34  # Planck’s constant (Joule-second).\n",
        "hvmin     = 2.59E-20       # Joule\n",
        "kb        = 1.3806504E-23   # Boltzmann constant (Joule/Kelvin)\n",
        "T         = 298.15          # Kelvin\n",
        "d         = 2E-10           # Ion radius (m)\n",
        "\n",
        "# Water\n",
        "\n",
        "epsilon_3 = 78.5            # Dielectric constant ϵ(0)\n",
        "hv3_I     = 20E-19         # Joule\n",
        "n3        = 1.333           # Dielectric index n(0)\n",
        "\n",
        "# Protein\n",
        "\n",
        "epsilon_m = 2.56            # Dielectric constant ϵ(0)\n",
        "hvm_I     = 20E-19         # Joule\n",
        "nm        = 1.60            # Dielectric index n(0)"
      ],
      "metadata": {
        "id": "yfEFwDjNy-do"
      },
      "execution_count": null,
      "outputs": []
    },
    {
      "cell_type": "markdown",
      "source": [
        "**Physical Properties of Ions**"
      ],
      "metadata": {
        "id": "DiPdr6AS1QN3"
      }
    },
    {
      "cell_type": "code",
      "source": [
        "Table_ions = {\n",
        "    'Li+':   {'alpha': 0.0285, 'hv_I_12': 121.2,  'hv_I_im': 94.8},\n",
        "    'Na+':   {'alpha': 0.1485, 'hv_I_12': 75.76,  'hv_I_im': 54.7},\n",
        "    'K+' :   {'alpha': 0.7912, 'hv_I_12': 50.68,  'hv_I_im': 33.1},\n",
        "    'Rb+':   {'alpha': 1.3411, 'hv_I_12': 43.72,  'hv_I_im': 27.3},\n",
        "    'Cs+':   {'alpha': 2.2643, 'hv_I_12': 37.10,  'hv_I_im': 21.9},\n",
        "    'Mg2+':  {'alpha': 0.0720, 'hv_I_12': 128.41, 'hv_I_im': 76.1},\n",
        "    'Ca2+':  {'alpha': 0.4732, 'hv_I_12': 81.57,  'hv_I_im': 41.0},\n",
        "    'Sr2+':  {'alpha': 0.7706, 'hv_I_12': 68.72,  'hv_I_im': 34.9},\n",
        "    'Ba2+':  {'alpha': 1.4967, 'hv_I_12': 60.9,   'hv_I_im': 29.7},\n",
        "    'F-' :   {'alpha': 1.304,  'hv_I_12': 5.449,  'hv_I_im': 10.9},\n",
        "    'Cl-':   {'alpha': 3.764,  'hv_I_12': 5.788,  'hv_I_im': 9.15},\n",
        "    'Br-':   {'alpha': 5.068,  'hv_I_12': 5.389,  'hv_I_im': 8.32},\n",
        "    'I-' :   {'alpha': 7.409,  'hv_I_12': 4.898,  'hv_I_im': 7.19},\n",
        "    'NO3-' : {'alpha': 4.475,  'hv_I_12': 6.277,  'hv_I_im': 8.97},\n",
        "    'ClO4-': {'alpha': 5.453,  'hv_I_12': 7.539,  'hv_I_im': 8.70},\n",
        "    'HCOO-': {'alpha': 4.208,  'hv_I_12': 5.696,  'hv_I_im': 10.0},\n",
        "    'CO32-': {'alpha': 5.394,  'hv_I_12': -4.235, 'hv_I_im': -0.673},\n",
        "    'SO42-': {'alpha': 6.327,  'hv_I_12': -27.57, 'hv_I_im': -16.4}\n",
        "}"
      ],
      "metadata": {
        "id": "NZWFJcP-1Nfn"
      },
      "execution_count": null,
      "outputs": []
    },
    {
      "cell_type": "code",
      "source": [
        "def alfa(v, alfa_0, v_I):               # Equation 03\n",
        "  return alfa_0/(1+(v/v_I)**2)\n",
        "\n",
        "def epsilon(v, v_I, n):                 # Equation 04\n",
        "  return 1 + (n**2-1)/(1+(v/v_I)**2)"
      ],
      "metadata": {
        "id": "WJlP_hZEuCh2"
      },
      "execution_count": null,
      "outputs": []
    },
    {
      "cell_type": "markdown",
      "source": [
        "**Case Study**:\n",
        "\\\n",
        "Calculating the Nondimensional van der Waals Dispersion Interactions at the Contact Distance for Cation-Macroion, in Water at 298 K"
      ],
      "metadata": {
        "id": "_Ow6_qVHPNQt"
      }
    },
    {
      "cell_type": "code",
      "source": [
        "# Choose the ion\n",
        "ion = 'Na+'\n",
        "\n",
        "# From the Table\n",
        "alpha_0  = Table_ions[ion]['alpha']*1E-30\n",
        "hv0_I    = Table_ions[ion]['hv_I_im']*1E-19"
      ],
      "metadata": {
        "id": "dEdrlINT3x0Q"
      },
      "execution_count": null,
      "outputs": []
    },
    {
      "cell_type": "code",
      "source": [
        "from scipy import integrate\n",
        "import numpy as np\n",
        "\n",
        "def func(v, alpha_0, hv0_I, hvm_I, hv3_I, nm, n3):\n",
        "  alfa_ion = alfa(v, alpha_0, hv0_I)\n",
        "  epsilon_m = epsilon(v, hvm_I, nm)\n",
        "  epsilon_3 = epsilon(v, hv3_I, n3)\n",
        "  return alfa_ion/epsilon_3 * (epsilon_m - epsilon_3)/(epsilon_m + epsilon_3)\n",
        "\n",
        "result = integrate.quad(lambda v: func(v, alpha_0, hv0_I, hvm_I, hv3_I, nm, n3), hvmin, hvmin*1000)\n",
        "\n",
        "# Equation 2\n",
        "B = (alpha_0/4/epsilon_3*(epsilon_m-epsilon_3)/(epsilon_m+epsilon_3)+1/4/np.pi/kb/T*result[0])*kb*T"
      ],
      "metadata": {
        "id": "pz2jVHtL4OGQ"
      },
      "execution_count": null,
      "outputs": []
    },
    {
      "cell_type": "markdown",
      "source": [
        "**Nondimensional van der Waals Dispersion**: $\\frac{B_{im}}{d^3k_{b}T}$"
      ],
      "metadata": {
        "id": "5r9sRRUrQAEO"
      }
    },
    {
      "cell_type": "code",
      "source": [
        "print('The nondimensional parameter for the interaction of ' + ion + ' with a colloid particle is:')\n",
        "B/d**3/kb/T"
      ],
      "metadata": {
        "colab": {
          "base_uri": "https://localhost:8080/"
        },
        "id": "F7LJdrURP-Xl",
        "outputId": "639b70b3-fb91-4b2b-d468-d9176fa6772c"
      },
      "execution_count": null,
      "outputs": [
        {
          "output_type": "stream",
          "name": "stdout",
          "text": [
            "The nondimensional parameter for the interaction of Na+ with a colloid particle is:\n"
          ]
        },
        {
          "output_type": "execute_result",
          "data": {
            "text/plain": [
              "0.13841095405523354"
            ]
          },
          "metadata": {},
          "execution_count": 31
        }
      ]
    }
  ]
}