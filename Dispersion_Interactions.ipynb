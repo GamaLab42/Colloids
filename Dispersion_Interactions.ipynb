{
  "nbformat": 4,
  "nbformat_minor": 0,
  "metadata": {
    "colab": {
      "provenance": [],
      "authorship_tag": "ABX9TyNZf0wUIR19j215Zj62KToy",
      "include_colab_link": true
    },
    "kernelspec": {
      "name": "python3",
      "display_name": "Python 3"
    },
    "language_info": {
      "name": "python"
    }
  },
  "cells": [
    {
      "cell_type": "markdown",
      "metadata": {
        "id": "view-in-github",
        "colab_type": "text"
      },
      "source": [
        "<a href=\"https://colab.research.google.com/github/GamaLab42/Colloids/blob/main/Dispersion_Interactions.ipynb\" target=\"_parent\"><img src=\"https://colab.research.google.com/assets/colab-badge.svg\" alt=\"Open In Colab\"/></a>"
      ]
    },
    {
      "cell_type": "markdown",
      "source": [
        "Here, we calculate the ion-ion and ion-colloid dispersion interaction following the methodology reported by Tavares and collaborators (2004).\n",
        "\n",
        "\\\n",
        "**Ref:**\n",
        "*F. W. Tavares, D. Bratko, H. W. Blanch, and J. M. Prausnitz\n",
        "The Journal of Physical Chemistry B 2004 108 (26), 9228-9235\n",
        "DOI: 10.1021/jp037809t*"
      ],
      "metadata": {
        "id": "mTalKsCetTNs"
      }
    },
    {
      "cell_type": "markdown",
      "source": [
        "**Ion-Ion Dispersion Interactions**\n",
        "\\\n",
        "\\\n",
        "The dispersion potential $w_{12}^{disp}$ between two small particles 1 and 2 (in this case, ions) in a medium 3 (the solvent) is given by:\n",
        "\\\n",
        "\\\n",
        "$w_{12}^{disp} = \\frac{-B_{12}}{r^6_{12}}$ for $r_{12} \\geq (\\sigma_1 + \\sigma_2)$\n",
        "\n",
        "\\\n",
        "The dispersion parameter $B_{12}$ is calculated using multiple\n",
        "absorption frequencies:\n",
        "\n",
        "\\\n",
        "(**Equation 01**)\n",
        "$\\frac{B_{12}}{k_{B}T} = 3\\frac{\\alpha_{1}(0)\\alpha_{2}(0)}{[\\epsilon_3(0)]^2}$ + $\\frac{3h}{\\pi k_{b}T}\\int^{∞}_{\\nu_{min}}\\frac{\\alpha_{1}(\\nu)\\alpha_{2}(\\nu)}{[\\epsilon_3(\\nu)]^2}d\\nu$"
      ],
      "metadata": {
        "id": "toBVwW9lu2Ku"
      }
    },
    {
      "cell_type": "markdown",
      "source": [
        "#**Ion-Colloid Dispersion Interactions**\n",
        "\n",
        "To calculate ion-colloid dispersion interactions, we note that the ion is much\n",
        "smaller than the macroion; therefore, the ion-macroion van der Waals interaction is approximated by the potential between a small spherical particle *i* and a planar macroion *m*:\n",
        "\n",
        "\\\n",
        "$w_{12}^{disp} = \\frac{-B_{12}}{r^6_{12}}$ for $r_{12} \\geq (\\sigma_1 + \\sigma_2)$\n",
        "\n",
        "\\\n",
        "where $d_{im}$ is the perpendicular distance from the center of small\n",
        "particle *i* (ion) to the surface of macroion (colloid) *m*. The dispersion interaction parameter, $B_{im}$, is calculated from the Lifshitz theory:\n",
        "\n",
        "\\\n",
        "\n",
        "(**Equation 02**) $\\frac{B_{im}}{k_{B}T} = \\frac{\\alpha_{i}(0)}{4\\epsilon_3(0)} \\left( \\frac{\\epsilon_m(0) - \\epsilon_3(0)}{\\epsilon_m(0) + \\epsilon_3(0)} \\right) + \\frac{h}{4\\pi k_{b}T}\\int^{∞}_{\\nu_{min}}\\frac{\\alpha_{i}(\\nu)}{\\epsilon_3(\\nu)} \\left( \\frac{\\epsilon_m(\\nu) - \\epsilon_3(\\nu)}{\\epsilon_m(\\nu) + \\epsilon_3(\\nu)} \\right)d\\nu$\n",
        "\n",
        "\\\n",
        "where $\\epsilon_m$(0) and $\\epsilon_m$($\\nu$) are the dielectric constants of the macroion at frequencies 0 and $\\nu$, respectively.\n",
        "\\\n",
        "\\\n",
        "To calculate dispersion interaction parameters, $B_{ij}$ and $B_{im}$, we need to know how the effective polarizabilities of ions and the dielectric constants for the macroion and the solvent vary with frequency. For a molecule with one characteristic absorption frequency (the ionization frequency) $\\nu^I$, its polarizability and its dielectric constant at a frequency $\\nu$ are given by the\n",
        "harmonic-oscillator model:\n",
        "\\\n",
        "\\\n",
        "(**Equation 03**) $\\alpha(\\nu) = \\frac{\\alpha(0)}{(1+(\\nu/\\nu^I)^2)}$)\n",
        "\\\n",
        "\\\n",
        "and\n",
        "\\\n",
        "\\\n",
        "(**Equation 04**) $\\epsilon(\\nu) = 1 + \\frac{(n^2 - 1)}{(1+(\\nu/\\nu^I)^2)}$"
      ],
      "metadata": {
        "id": "ZbHbCt3rK3Jx"
      }
    },
    {
      "cell_type": "markdown",
      "source": [
        "**Physical Properties for Water and Colloid or Protein**"
      ],
      "metadata": {
        "id": "30KoskTTzDF_"
      }
    },
    {
      "cell_type": "code",
      "source": [
        "h         = 6.62607015E-34  # Planck’s constant (Joule-second).\n",
        "hvmin     = 2.59E-20        # Joule\n",
        "kb        = 1.3806504E-23   # Boltzmann constant (Joule/Kelvin)\n",
        "T         = 298.15          # Kelvin\n",
        "d         = 2E-10           # Ion radius (m)\n",
        "\n",
        "# Water\n",
        "\n",
        "epsilon_3 = 78.5            # Dielectric constant ϵ(0)\n",
        "hv3_I     = 20E-19          # Joule\n",
        "n3        = 1.333           # Refractive index n(0)\n",
        "\n",
        "# Protein\n",
        "\n",
        "epsilon_m = 2.56            # Dielectric constant ϵ(0)\n",
        "hvm_I     = 20E-19          # Joule\n",
        "nm        = 1.60            # Refractive index n(0)"
      ],
      "metadata": {
        "id": "yfEFwDjNy-do"
      },
      "execution_count": 36,
      "outputs": []
    },
    {
      "cell_type": "markdown",
      "source": [
        "**Physical Properties of Ions**"
      ],
      "metadata": {
        "id": "DiPdr6AS1QN3"
      }
    },
    {
      "cell_type": "code",
      "source": [
        "Table_ions = {\n",
        "    'Li+':   {'alpha': 0.0285, 'hv_I_12': 121.2,  'hv_I_im': 94.8},\n",
        "    'Na+':   {'alpha': 0.1485, 'hv_I_12': 75.76,  'hv_I_im': 54.7},\n",
        "    'K+' :   {'alpha': 0.7912, 'hv_I_12': 50.68,  'hv_I_im': 33.1},\n",
        "    'Rb+':   {'alpha': 1.3411, 'hv_I_12': 43.72,  'hv_I_im': 27.3},\n",
        "    'Cs+':   {'alpha': 2.2643, 'hv_I_12': 37.10,  'hv_I_im': 21.9},\n",
        "    'Mg2+':  {'alpha': 0.0720, 'hv_I_12': 128.41, 'hv_I_im': 76.1},\n",
        "    'Ca2+':  {'alpha': 0.4732, 'hv_I_12': 81.57,  'hv_I_im': 41.0},\n",
        "    'Sr2+':  {'alpha': 0.7706, 'hv_I_12': 68.72,  'hv_I_im': 34.9},\n",
        "    'Ba2+':  {'alpha': 1.4967, 'hv_I_12': 60.9,   'hv_I_im': 29.7},\n",
        "    'F-' :   {'alpha': 1.304,  'hv_I_12': 5.449,  'hv_I_im': 10.9},\n",
        "    'Cl-':   {'alpha': 3.764,  'hv_I_12': 5.788,  'hv_I_im': 9.15},\n",
        "    'Br-':   {'alpha': 5.068,  'hv_I_12': 5.389,  'hv_I_im': 8.32},\n",
        "    'I-' :   {'alpha': 7.409,  'hv_I_12': 4.898,  'hv_I_im': 7.19},\n",
        "    'NO3-' : {'alpha': 4.475,  'hv_I_12': 6.277,  'hv_I_im': 8.97},\n",
        "    'ClO4-': {'alpha': 5.453,  'hv_I_12': 7.539,  'hv_I_im': 8.70},\n",
        "    'HCOO-': {'alpha': 4.208,  'hv_I_12': 5.696,  'hv_I_im': 10.0},\n",
        "    'CO32-': {'alpha': 5.394,  'hv_I_12': -4.235, 'hv_I_im': -0.673},\n",
        "    'SO42-': {'alpha': 6.327,  'hv_I_12': -27.57, 'hv_I_im': -16.4}\n",
        "}"
      ],
      "metadata": {
        "id": "NZWFJcP-1Nfn"
      },
      "execution_count": 37,
      "outputs": []
    },
    {
      "cell_type": "code",
      "source": [
        "def alfa(v, alfa_0, v_I):               # Equation 03\n",
        "  return alfa_0/(1+(v/v_I)**2)\n",
        "\n",
        "def epsilon(v, v_I, n):                 # Equation 04\n",
        "  return 1 + (n**2-1)/(1+(v/v_I)**2)"
      ],
      "metadata": {
        "id": "WJlP_hZEuCh2"
      },
      "execution_count": 38,
      "outputs": []
    },
    {
      "cell_type": "markdown",
      "source": [
        "#**Case Study**:\n",
        "\\\n",
        "Calculating the Nondimensional van der Waals Dispersion Interactions at the Contact Distance for Cation-Macroion, in Water at 298 K"
      ],
      "metadata": {
        "id": "_Ow6_qVHPNQt"
      }
    },
    {
      "cell_type": "code",
      "source": [
        "# Choose the ion\n",
        "ion = 'Na+'\n",
        "\n",
        "# From the Table\n",
        "alpha_0  = Table_ions[ion]['alpha']*1E-30\n",
        "hv0_I    = Table_ions[ion]['hv_I_im']*1E-19"
      ],
      "metadata": {
        "id": "dEdrlINT3x0Q"
      },
      "execution_count": 39,
      "outputs": []
    },
    {
      "cell_type": "code",
      "source": [
        "from scipy import integrate\n",
        "import numpy as np\n",
        "\n",
        "def func(v, alpha_0, hv0_I, hvm_I, hv3_I, nm, n3):\n",
        "  alfa_ion = alfa(v, alpha_0, hv0_I)\n",
        "  epsilon_m = epsilon(v, hvm_I, nm)\n",
        "  epsilon_3 = epsilon(v, hv3_I, n3)\n",
        "  return alfa_ion/epsilon_3 * (epsilon_m - epsilon_3)/(epsilon_m + epsilon_3)\n",
        "\n",
        "result = integrate.quad(lambda v: func(v, alpha_0, hv0_I, hvm_I, hv3_I, nm, n3), hvmin, hvmin*1000)\n",
        "\n",
        "# Equation 2\n",
        "B = (alpha_0/4/epsilon_3*(epsilon_m-epsilon_3)/(epsilon_m+epsilon_3)+1/4/np.pi/kb/T*result[0])*kb*T"
      ],
      "metadata": {
        "id": "pz2jVHtL4OGQ"
      },
      "execution_count": 40,
      "outputs": []
    },
    {
      "cell_type": "markdown",
      "source": [
        "**Nondimensional van der Waals Dispersion**: $\\frac{B_{im}}{d^3k_{b}T}$"
      ],
      "metadata": {
        "id": "5r9sRRUrQAEO"
      }
    },
    {
      "cell_type": "code",
      "source": [
        "print('The nondimensional parameter for the interaction of ' + ion + ' with a colloid particle is:')\n",
        "B/d**3/kb/T"
      ],
      "metadata": {
        "colab": {
          "base_uri": "https://localhost:8080/"
        },
        "id": "F7LJdrURP-Xl",
        "outputId": "11696635-2648-4fc2-955b-f8b0886e7a9b"
      },
      "execution_count": 41,
      "outputs": [
        {
          "output_type": "stream",
          "name": "stdout",
          "text": [
            "The nondimensional parameter for the interaction of Na+ with a colloid particle is:\n"
          ]
        },
        {
          "output_type": "execute_result",
          "data": {
            "text/plain": [
              "0.13841095405523354"
            ]
          },
          "metadata": {},
          "execution_count": 41
        }
      ]
    },
    {
      "cell_type": "markdown",
      "source": [
        "**Dielectric Function for Water**\n",
        "\n",
        "Polar materials, like water, have microwave contribution due the ionic movement or the reorientation of polar bonds. A function of frequency that takes into account the electron clouds around the atomic nuclei (ultraviolet frequencies $w_{UV}$) and the microwave frequencies ($w_{MV}$) is:\n",
        "\n",
        "\\\n",
        "(**Equation 05**) $\\epsilon(\\nu) = 1 + \\frac{C_{MV}}{(1+\\nu/\\nu_{MV})} + \\frac{C_{UV}}{[1+(\\nu/\\nu_{UV})^2]}$\n",
        "\n",
        "where $\\nu = w/2\\pi$, and $C$ is the given contribution to the total permissivity parameter. For water at 25ºC, $C_{UV} = 0.754$ and $C_{MB} = \\epsilon(0) - C_{UV} - 1$."
      ],
      "metadata": {
        "id": "5w8URRUHXRc9"
      }
    },
    {
      "cell_type": "code",
      "source": [
        "def epsilon_new(v, C_UV, C_MV, v_MV, v_UV):                 # Equation 05\n",
        "  return 1 + C_MV/((1+(v/v_MV))) + C_UV/(1+(v/v_MV)**2)"
      ],
      "metadata": {
        "id": "oS-moeasXDAF"
      },
      "execution_count": 42,
      "outputs": []
    },
    {
      "cell_type": "code",
      "source": [
        "# Water\n",
        "\n",
        "epsilon_3  = 78.5                        # Dielectric constant ϵ(0)\n",
        "hv3_MV     = h*1.18E11/(2*np.pi)         # Joule\n",
        "hv3_UV     = h*1.97E16/(2*np.pi)         # Joule\n",
        "C_UV       = 0.754\n",
        "C_MV       = epsilon_3 - C_UV - 1"
      ],
      "metadata": {
        "id": "h9kIX8ksbLOR"
      },
      "execution_count": 43,
      "outputs": []
    },
    {
      "cell_type": "code",
      "source": [
        "from scipy import integrate\n",
        "import numpy as np\n",
        "\n",
        "def func(v, alpha_0, hv0_I, hvm_I, hv3_I, nm, n3):\n",
        "  alfa_ion = alfa(v, alpha_0, hv0_I)\n",
        "  epsilon_m = epsilon(v, hvm_I, nm)\n",
        "  epsilon_3 = epsilon_new(v, C_UV, C_MV, hv3_MV, hv3_UV)\n",
        "  return alfa_ion/epsilon_3 * (epsilon_m - epsilon_3)/(epsilon_m + epsilon_3)\n",
        "\n",
        "result = integrate.quad(lambda v: func(v, alpha_0, hv0_I, hvm_I, hv3_I, nm, n3), hvmin, hvmin*1000)\n",
        "\n",
        "# Equation 2\n",
        "B = (alpha_0/4/epsilon_3*(epsilon_m-epsilon_3)/(epsilon_m+epsilon_3)+1/4/np.pi/kb/T*result[0])*kb*T"
      ],
      "metadata": {
        "id": "bAXiifEEcUOM"
      },
      "execution_count": 44,
      "outputs": []
    },
    {
      "cell_type": "code",
      "source": [
        "print('The nondimensional parameter for the interaction of ' + ion + ' with a colloid particle using a more robust representation for the water dielectric function:')\n",
        "B/d**3/kb/T"
      ],
      "metadata": {
        "colab": {
          "base_uri": "https://localhost:8080/"
        },
        "id": "VxbUYoY1chFM",
        "outputId": "9ee890c5-44e7-4660-ff31-429df278cbfb"
      },
      "execution_count": 45,
      "outputs": [
        {
          "output_type": "stream",
          "name": "stdout",
          "text": [
            "The nondimensional parameter for the interaction of Na+ with a colloid particle using a more robust representation for the water dielectric function:\n"
          ]
        },
        {
          "output_type": "execute_result",
          "data": {
            "text/plain": [
              "0.4368564315585819"
            ]
          },
          "metadata": {},
          "execution_count": 45
        }
      ]
    },
    {
      "cell_type": "markdown",
      "source": [
        "# **Dispersion Interactions between two media**\n"
      ],
      "metadata": {
        "id": "XDxQy2baWrhV"
      }
    },
    {
      "cell_type": "markdown",
      "source": [
        "\n",
        "From Israelachvili (2011) the nonretarded Hamaker for two media, interacting through a third media, can be obtained using the following equation:\n",
        "\n",
        "\\\n",
        "\n",
        "(**Equation 06**) $\\frac{B_{12}}{k_{b}T} \\approx \\frac{3}{4} \\left( \\frac{\\epsilon_1(0) - \\epsilon_3(0)}{\\epsilon_1(0) + \\epsilon_3(0)} \\right)\\left( \\frac{\\epsilon_2(0) - \\epsilon_3(0)}{\\epsilon_2(0) + \\epsilon_3(0)} \\right) + \\frac{3h}{4\\pi k_{b}T}\\int^{∞}_{\\nu_{min}}\\left( \\frac{\\epsilon_1(\\nu) - \\epsilon_3(\\nu)}{\\epsilon_1(\\nu) + \\epsilon_3(\\nu)} \\right) \\left( \\frac{\\epsilon_2(\\nu) - \\epsilon_3(\\nu)}{\\epsilon_2(\\nu) + \\epsilon_3(\\nu)} \\right)d\\nu$\n",
        "\n",
        "\\\n",
        "where $\\epsilon_i$(0) and $\\epsilon_i$($\\nu$) are the dielectric constants of the media $i$ at frequencies 0 and $\\nu$, respectively."
      ],
      "metadata": {
        "id": "7OoXK4zuKpDV"
      }
    },
    {
      "cell_type": "markdown",
      "source": [
        "**Physical Properties for the media**"
      ],
      "metadata": {
        "id": "uASmlPG6-D4A"
      }
    },
    {
      "cell_type": "code",
      "source": [
        "# Quartz\n",
        "# Ref: Bergström, L. (1997). Hamaker constants of inorganic materials.\n",
        "#          Advances in colloid and interface science, 70, 125-169.\n",
        "\n",
        "epsilon_1 = 4.29                      # Dielectric constant ϵ(0)\n",
        "n1        = 1.536                     # Refractive index n(0)\n",
        "\n",
        "  # The ionization parameter for 1 molecule of quartz:\n",
        "v1_I      = 2.032e16/2/np.pi          # 1/s\n",
        "  # As we are interested about the media, the following equation is applied:\n",
        "hv1_E     = v1_I*((3/(n1**2+2))**0.5)*h   # Joule (for the media)\n",
        "\n",
        "# Water\n",
        "\n",
        "epsilon_m = 78.5            # Dielectric constant ϵ(0)\n",
        "hvm_E     = 20E-19          # Joule\n",
        "nm        = 1.333           # Refractive index n(0)\n",
        "\n",
        "# Decane\n",
        "# Ref: Duffy, T. S., Gamwo, I. K., Johns, R. T., & Lvov, S. N. (2021).\n",
        "#         Modeling contact angle vs. Temperature for the quartz-water-decane\n",
        "#         system. SPE Journal, 26(06), 3668-3680.\n",
        "\n",
        "epsilon_3 = 1.9853                    # Dielectric constant ϵ(0)\n",
        "n3        = 1.406                     # Refractive index n(0)\n",
        "\n",
        "  # In the same way as before:\n",
        "v3_I      = 1.88e16/2/np.pi\n",
        "hv3_E     = v3_I*((3/(n3**2+2))**0.5)*h   #Joule\n"
      ],
      "metadata": {
        "id": "tOlNfV8R-AFF"
      },
      "execution_count": 46,
      "outputs": []
    },
    {
      "cell_type": "code",
      "source": [
        "from scipy import integrate\n",
        "import numpy as np\n",
        "\n",
        "def func(hv, hv1_E, hvm_E, hv3_E,n1, nm, n3):\n",
        "    epsilon_1 = epsilon(hv, hv1_E, n1)\n",
        "    epsilon_m = epsilon_new(hv, C_UV, C_MV, hv3_MV, hv3_UV)\n",
        "    epsilon_3 = epsilon(hv, hv3_E, n3)\n",
        "    return (epsilon_1 - epsilon_m)/(epsilon_1 + epsilon_m)*(epsilon_3 - epsilon_m)/(epsilon_3 + epsilon_m)\n",
        "\n",
        "result = integrate.quad(lambda hv: func(hv, hv1_E, hvm_E, hv3_E,n1, nm, n3), hvmin, hvmin*1000)\n",
        "\n",
        "# Hamaker constant calculation (Equation 06 with Equation 05)\n",
        "print('For a calculation of the dielectric const. of water as of the ultraviolet and microwave frequencies, the nondimensional Hamaker const. for quartz and decane across a water media is :')\n",
        "A_1  = 3/4*(kb*T*(epsilon_1 - epsilon_m)/(epsilon_1 + epsilon_m)*(epsilon_3 - epsilon_m)/(epsilon_3 + epsilon_m))\n",
        "A_2 = 3/np.pi/4 * result[0]\n",
        "Hamaker = (A_1+ A_2)/kb/T\n",
        "Hamaker"
      ],
      "metadata": {
        "colab": {
          "base_uri": "https://localhost:8080/"
        },
        "id": "V0ZESbFf_3Rq",
        "outputId": "2fb85c8e-7a25-4c78-8647-8467c52a849b"
      },
      "execution_count": 50,
      "outputs": [
        {
          "output_type": "stream",
          "name": "stdout",
          "text": [
            "For a calculation of the dielectric const. of water as of the ultraviolet and microwave frequencies, the nondimensional Hamaker const. for quartz and decane across a water media is :\n"
          ]
        },
        {
          "output_type": "execute_result",
          "data": {
            "text/plain": [
              "13.651155354666868"
            ]
          },
          "metadata": {},
          "execution_count": 50
        }
      ]
    },
    {
      "cell_type": "code",
      "source": [
        "from scipy import integrate\n",
        "import numpy as np\n",
        "\n",
        "def func(hv, hv1_E, hvm_E, hv3_E,n1, nm, n3):\n",
        "    epsilon_1 = epsilon(hv, hv1_E, n1)\n",
        "    epsilon_m = epsilon(hv, hvm_E, nm)\n",
        "    epsilon_3 = epsilon(hv, hv3_E, n3)\n",
        "    return (epsilon_1 - epsilon_m)/(epsilon_1 + epsilon_m)*(epsilon_3 - epsilon_m)/(epsilon_3 + epsilon_m)\n",
        "\n",
        "result = integrate.quad(lambda hv: func(hv, hv1_E, hvm_E, hv3_E,n1, nm, n3), hvmin, hvmin*1000)\n",
        "\n",
        "# Hamaker constant calculation (Equation 06)\n",
        "print('The nondimensional Hamaker const. for quartz and decane across a water media is :')\n",
        "A_1  = 3/4*(kb*T*(epsilon_1 - epsilon_m)/(epsilon_1 + epsilon_m)*(epsilon_3 - epsilon_m)/(epsilon_3 + epsilon_m))\n",
        "A_2 = 3/np.pi/4 * result[0]\n",
        "Hamaker = (A_1+ A_2)/kb/T\n",
        "Hamaker"
      ],
      "metadata": {
        "colab": {
          "base_uri": "https://localhost:8080/"
        },
        "id": "o6u4cgX5cseh",
        "outputId": "6921881c-fe12-4401-d0e0-ba42f2236cee"
      },
      "execution_count": 48,
      "outputs": [
        {
          "output_type": "stream",
          "name": "stdout",
          "text": [
            "The nondimensional Hamaker const. for quartz and decane across a water media is :\n"
          ]
        },
        {
          "output_type": "execute_result",
          "data": {
            "text/plain": [
              "1.0922804584575836"
            ]
          },
          "metadata": {},
          "execution_count": 48
        }
      ]
    },
    {
      "cell_type": "markdown",
      "source": [
        "If the absorption frequencies of all three media are assumed to be the same, we obtain the following approximate expression for the nonretarded Hamaker constant for two macroscopic phases 1 and 2 interacting across a medium 3:\n",
        "\n",
        "\\\n",
        "\n",
        "(**Equation 07**) $\\frac{B_{12}}{k_{b}T} \\approx \\frac{3}{4} \\left( \\frac{\\epsilon_1(0) - \\epsilon_3(0)}{\\epsilon_1(0) + \\epsilon_3(0)} \\right)\\left( \\frac{\\epsilon_2(0) - \\epsilon_3(0)}{\\epsilon_2(0) + \\epsilon_3(0)} \\right) + \\frac{3h\\nu_e}{8\\sqrt2 k_{b}T} \\frac{(n^2_1 - n^2_3)(n^2_2 - n^2_3)}{(n^2_1 + n^2_3)^{1/2}(n^2_2 + n^2_3)^{1/2}[(n^2_1 + n^2_3)^{1/2}+(n^2_2 + n^2_3)^{1/2}]} $\n"
      ],
      "metadata": {
        "id": "RsZZD3LYCHEg"
      }
    },
    {
      "cell_type": "code",
      "source": [
        "# Hamaker constant calculation (Equation 07)\n",
        "print('For this situation, the nondimensional Hamaker const. for quartz and decane across a water media is :')\n",
        "ve   = 2.032e16/2/np.pi #Joule\n",
        "A_1  = 3/4*(kb*T*(epsilon_1 - epsilon_m)/(epsilon_1 + epsilon_m)*(epsilon_3 - epsilon_m)/(epsilon_3 + epsilon_m))\n",
        "A_2  = 3/8/(2**0.5)*h*ve*(n1**2-nm**2)*(n3**2-nm**2)/((n1**2+nm**2)**0.5)/((n3**2+nm**2)**0.5)/(((n1**2+nm**2)**0.5)+((n3**2+nm**2)**0.5))\n",
        "Hamaker = (A_1+ A_2)/kb/T\n",
        "Hamaker"
      ],
      "metadata": {
        "colab": {
          "base_uri": "https://localhost:8080/"
        },
        "id": "tiXqQGY7A5Np",
        "outputId": "c894f95d-0f36-4d56-a74a-f4ea683796c2"
      },
      "execution_count": 49,
      "outputs": [
        {
          "output_type": "stream",
          "name": "stdout",
          "text": [
            "For this situation, the nondimensional Hamaker const. for quartz and decane across a water media is :\n"
          ]
        },
        {
          "output_type": "execute_result",
          "data": {
            "text/plain": [
              "1.6663776196963855"
            ]
          },
          "metadata": {},
          "execution_count": 49
        }
      ]
    }
  ]
}